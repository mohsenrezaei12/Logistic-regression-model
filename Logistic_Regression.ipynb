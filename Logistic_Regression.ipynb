{
  "metadata": {
    "kernelspec": {
      "name": "python",
      "display_name": "Python (Pyodide)",
      "language": "python"
    },
    "language_info": {
      "codemirror_mode": {
        "name": "python",
        "version": 3
      },
      "file_extension": ".py",
      "mimetype": "text/x-python",
      "name": "python",
      "nbconvert_exporter": "python",
      "pygments_lexer": "ipython3",
      "version": "3.8"
    }
  },
  "nbformat_minor": 4,
  "nbformat": 4,
  "cells": [
    {
      "cell_type": "markdown",
      "source": "# Logistic Regression\n",
      "metadata": {}
    },
    {
      "cell_type": "markdown",
      "source": "\n## Packages \n",
      "metadata": {
        "tags": []
      }
    },
    {
      "cell_type": "code",
      "source": "import numpy as np\nimport matplotlib.pyplot as plt\nfrom utils import *\nimport copy\nimport math\n\n%matplotlib inline",
      "metadata": {},
      "execution_count": 1,
      "outputs": []
    },
    {
      "cell_type": "code",
      "source": "# load dataset\nX_train, y_train = load_data(\"data/ex2data1.txt\")",
      "metadata": {},
      "execution_count": 2,
      "outputs": []
    },
    {
      "cell_type": "markdown",
      "source": "#### variables",
      "metadata": {}
    },
    {
      "cell_type": "code",
      "source": "print(\"First five elements in X_train are:\\n\", X_train[:5])\nprint(\"Type of X_train:\",type(X_train))",
      "metadata": {},
      "execution_count": 3,
      "outputs": [
        {
          "name": "stdout",
          "output_type": "stream",
          "text": "First five elements in X_train are:\n\n [[34.62365962 78.02469282]\n\n [30.28671077 43.89499752]\n\n [35.84740877 72.90219803]\n\n [60.18259939 86.3085521 ]\n\n [79.03273605 75.34437644]]\n\nType of X_train: <class 'numpy.ndarray'>\n"
        }
      ]
    },
    {
      "cell_type": "code",
      "source": "print(\"First five elements in y_train are:\\n\", y_train[:5])\nprint(\"Type of y_train:\",type(y_train))",
      "metadata": {},
      "execution_count": 4,
      "outputs": [
        {
          "name": "stdout",
          "output_type": "stream",
          "text": "First five elements in y_train are:\n\n [0. 0. 0. 1. 1.]\n\nType of y_train: <class 'numpy.ndarray'>\n"
        }
      ]
    },
    {
      "cell_type": "markdown",
      "source": "####  dimensions of variables\n",
      "metadata": {}
    },
    {
      "cell_type": "code",
      "source": "print ('The shape of X_train is: ' + str(X_train.shape))\nprint ('The shape of y_train is: ' + str(y_train.shape))\nprint ('We have m = %d training examples' % (len(y_train)))",
      "metadata": {},
      "execution_count": 5,
      "outputs": [
        {
          "name": "stdout",
          "output_type": "stream",
          "text": "The shape of X_train is: (100, 2)\n\nThe shape of y_train is: (100,)\n\nWe have m = 100 training examples\n"
        }
      ]
    },
    {
      "cell_type": "markdown",
      "source": "#### data visualizing\n\n",
      "metadata": {}
    },
    {
      "cell_type": "code",
      "source": "# Plot examples\nplot_data(X_train, y_train[:], pos_label=\"Admitted\", neg_label=\"Not admitted\")\n\n# Set the y-axis label\nplt.ylabel('Exam 2 score') \n# Set the x-axis label\nplt.xlabel('Exam 1 score') \nplt.legend(loc=\"upper right\")\nplt.show()",
      "metadata": {},
      "execution_count": 6,
      "outputs": [
        {
          "output_type": "display_data",
          "data": {
            "image/png": "[encoded data removed]",
            "text/plain": [
              "<Figure size 432x288 with 1 Axes>"
            ]
          },
          "metadata": {
            "needs_background": "light"
          }
        }
      ]
    },
    {
      "cell_type": "code",
      "source": "\n# GRADED FUNCTION: sigmoid\n\ndef sigmoid(z):\n    \"\"\"\n    Compute the sigmoid of z\n\n    Args:\n        z (ndarray): A scalar, numpy array of any size.\n\n    Returns:\n        g (ndarray): sigmoid(z), with the same shape as z\n         \n    \"\"\"\n          \n    ### START CODE HERE ### \n    g = 1 / (1 + np.exp (-z ))\n    ### END SOLUTION ###  \n    \n    return g",
      "metadata": {},
      "execution_count": 7,
      "outputs": []
    },
    {
      "cell_type": "code",
      "source": "print (\"sigmoid(0) = \" + str(sigmoid(0)))",
      "metadata": {},
      "execution_count": 8,
      "outputs": [
        {
          "name": "stdout",
          "output_type": "stream",
          "text": "sigmoid(0) = 0.5\n"
        }
      ]
    },
    {
      "cell_type": "code",
      "source": "print (\"sigmoid([ -1, 0, 1, 2]) = \" + str(sigmoid(np.array([-1, 0, 1, 2]))))\n\n# UNIT TESTS\nfrom public_tests import *\nsigmoid_test(sigmoid)",
      "metadata": {
        "trusted": true
      },
      "execution_count": null,
      "outputs": []
    },
    {
      "cell_type": "code",
      "source": "\n# GRADED FUNCTION: compute_cost\ndef compute_cost(X, y, w, b, lambda_= 1):\n    \"\"\"\n    Computes the cost over all examples\n    Args:\n      X : (ndarray Shape (m,n)) data, m examples by n features\n      y : (array_like Shape (m,)) target value \n      w : (array_like Shape (n,)) Values of parameters of the model      \n      b : scalar Values of bias parameter of the model\n      lambda_: unused placeholder\n    Returns:\n      total_cost: (scalar)         cost \n    \"\"\"\n\n    m, n = X.shape\n    \n   \n    \n    loss_sum = 0 \n\n # Loop over each training example\n    for i in range(m): \n\n         # First calculate z_wb = w[0]*X[i][0]+...+w[n-1]*X[i][n-1]+b\n         z_wb = 0 \n         # Loop over each feature\n         for j in range(n): \n             # Add the corresponding term to z_wb\n             z_wb_ij = w[j]*X[i][j] \n             z_wb += z_wb_ij # equivalent to z_wb = z_wb + z_wb_ij\n         # Add the bias term to z_wb\n         z_wb += b # equivalent to z_wb = z_wb + b\n\n         f_wb =  sigmoid(z_wb) \n         loss =  -y[i] * np.log(f_wb) - (1 - y[i]) * np.log(1 - f_wb)\n\n         loss_sum += loss # equivalent to loss_sum = loss_sum + loss\n\n    total_cost = (1 / m) * loss_sum  \n    \n    \n\n    return total_cost",
      "metadata": {},
      "execution_count": 22,
      "outputs": []
    },
    {
      "cell_type": "code",
      "source": "m, n = X_train.shape\n\n# Compute and display cost with w initialized to zeroes\ninitial_w = np.zeros(n)\ninitial_b = 0.\ncost = compute_cost(X_train, y_train, initial_w, initial_b)\nprint('Cost at initial w (zeros): {:.3f}'.format(cost))",
      "metadata": {},
      "execution_count": 23,
      "outputs": [
        {
          "name": "stdout",
          "output_type": "stream",
          "text": "Cost at initial w (zeros): 0.693\n"
        }
      ]
    },
    {
      "cell_type": "code",
      "source": "# Compute and display cost with non-zero w\ntest_w = np.array([0.2, 0.2])\ntest_b = -24.\ncost = compute_cost(X_train, y_train, test_w, test_b)\n\nprint('Cost at test w,b: {:.3f}'.format(cost))\n\n\n# UNIT TESTS\ncompute_cost_test(compute_cost)\n",
      "metadata": {
        "trusted": true
      },
      "execution_count": null,
      "outputs": []
    },
    {
      "cell_type": "code",
      "source": "\n# GRADED FUNCTION: compute_gradient\ndef compute_gradient(X, y, w, b, lambda_=None): \n    \"\"\"\n    Computes the gradient for logistic regression \n \n    Args:\n      X : (ndarray Shape (m,n)) variable such as house size \n      y : (array_like Shape (m,1)) actual value \n      w : (array_like Shape (n,1)) values of parameters of the model      \n      b : (scalar)                 value of parameter of the model \n      lambda_: unused placeholder.\n    Returns\n      dj_dw: (array_like Shape (n,1)) The gradient of the cost w.r.t. the parameters w. \n      dj_db: (scalar)                The gradient of the cost w.r.t. the parameter b. \n    \"\"\"\n    m, n = X.shape\n    dj_dw = np.zeros(w.shape)\n    dj_db = 0.\n\n    \n    for i in range(m):\n              # Calculate f_wb (exactly as you did in the compute_cost function above)\n              z_wb = 0\n              \n              for j in range(n): \n                     # Add the corresponding term to z_wb\n                     z_wb_ij = X[i, j] * w[j]\n                     z_wb += z_wb_ij\n\n             # Add bias term \n              z_wb += b\n\n             # Calculate the prediction from the model\n              f_wb = sigmoid(z_wb)\n            \n            \n            \n            \n\n              # Calculate the  gradient for b from this example\n              dj_db_i =  f_wb - y[i]\n\n              # add that to dj_db\n              dj_db += dj_db_i\n\n              # get dj_dw for each attribute\n              for j in range(n):\n                  # You code here to calculate the gradient from the i-th example for j-th attribute\n                  dj_dw_ij = (f_wb - y[i])* X[i][j] \n                  dj_dw[j] += dj_dw_ij\n\n          # divide dj_db and dj_dw by total number of examples\n    dj_dw = dj_dw / m\n    dj_db = dj_db / m\n   \n\n        \n    return dj_db, dj_dw",
      "metadata": {},
      "execution_count": 33,
      "outputs": []
    },
    {
      "cell_type": "code",
      "source": "# Compute and display gradient with w initialized to zeroes\ninitial_w = np.zeros(n)\ninitial_b = 0.\n\ndj_db, dj_dw = compute_gradient(X_train, y_train, initial_w, initial_b)\nprint(f'dj_db at initial w (zeros):{dj_db}' )\nprint(f'dj_dw at initial w (zeros):{dj_dw.tolist()}' )",
      "metadata": {},
      "execution_count": 34,
      "outputs": [
        {
          "name": "stdout",
          "output_type": "stream",
          "text": "dj_db at initial w (zeros):-0.1\n\ndj_dw at initial w (zeros):[-12.00921658929115, -11.262842205513591]\n"
        }
      ]
    },
    {
      "cell_type": "code",
      "source": "# Compute and display cost and gradient with non-zero w\ntest_w = np.array([ 0.2, -0.5])\ntest_b = -24\ndj_db, dj_dw  = compute_gradient(X_train, y_train, test_w, test_b)\n\nprint('dj_db at test_w:', dj_db)\nprint('dj_dw at test_w:', dj_dw.tolist())\n\n# UNIT TESTS    \ncompute_gradient_test(compute_gradient)\n",
      "metadata": {
        "tags": [],
        "trusted": true
      },
      "execution_count": null,
      "outputs": []
    },
    {
      "cell_type": "code",
      "source": "def gradient_descent(X, y, w_in, b_in, cost_function, gradient_function, alpha, num_iters, lambda_): \n    \"\"\"\n    Performs batch gradient descent to learn theta. Updates theta by taking \n    num_iters gradient steps with learning rate alpha\n    \n    Args:\n      X :    (array_like Shape (m, n)\n      y :    (array_like Shape (m,))\n      w_in : (array_like Shape (n,))  Initial values of parameters of the model\n      b_in : (scalar)                 Initial value of parameter of the model\n      cost_function:                  function to compute cost\n      alpha : (float)                 Learning rate\n      num_iters : (int)               number of iterations to run gradient descent\n      lambda_ (scalar, float)         regularization constant\n      \n    Returns:\n      w : (array_like Shape (n,)) Updated values of parameters of the model after\n          running gradient descent\n      b : (scalar)                Updated value of parameter of the model after\n          running gradient descent\n    \"\"\"\n    \n    # number of training examples\n    m = len(X)\n    \n    # An array to store cost J and w's at each iteration primarily for graphing later\n    J_history = []\n    w_history = []\n    \n    for i in range(num_iters):\n\n        # Calculate the gradient and update the parameters\n        dj_db, dj_dw = gradient_function(X, y, w_in, b_in, lambda_)   \n\n        # Update Parameters using w, b, alpha and gradient\n        w_in = w_in - alpha * dj_dw               \n        b_in = b_in - alpha * dj_db              \n       \n        # Save cost J at each iteration\n        if i<100000:      # prevent resource exhaustion \n            cost =  cost_function(X, y, w_in, b_in, lambda_)\n            J_history.append(cost)\n\n        # Print cost every at intervals 10 times or as many iterations if < 10\n        if i% math.ceil(num_iters/10) == 0 or i == (num_iters-1):\n            w_history.append(w_in)\n            print(f\"Iteration {i:4}: Cost {float(J_history[-1]):8.2f}   \")\n        \n    return w_in, b_in, J_history, w_history #return w and J,w history for graphing",
      "metadata": {},
      "execution_count": 36,
      "outputs": []
    },
    {
      "cell_type": "code",
      "source": "np.random.seed(1)\nintial_w = 0.01 * (np.random.rand(2).reshape(-1,1) - 0.5)\ninitial_b = -8\n\n\n# Some gradient descent settings\niterations = 10000\nalpha = 0.001\n\nw,b, J_history,_ = gradient_descent(X_train ,y_train, initial_w, initial_b, \n                                   compute_cost, compute_gradient, alpha, iterations, 0)",
      "metadata": {},
      "execution_count": 37,
      "outputs": [
        {
          "name": "stdout",
          "output_type": "stream",
          "text": "Iteration    0: Cost     1.01   \n\nIteration 1000: Cost     0.31   \n\nIteration 2000: Cost     0.30   \n\nIteration 3000: Cost     0.30   \n\nIteration 4000: Cost     0.30   \n\nIteration 5000: Cost     0.30   \n\nIteration 6000: Cost     0.30   \n\nIteration 7000: Cost     0.30   \n\nIteration 8000: Cost     0.30   \n\nIteration 9000: Cost     0.30   \n\nIteration 9999: Cost     0.30   \n"
        }
      ]
    },
    {
      "cell_type": "code",
      "source": "plot_decision_boundary(w, b, X_train, y_train)",
      "metadata": {},
      "execution_count": 38,
      "outputs": [
        {
          "output_type": "display_data",
          "data": {
            "image/png": "[encoded data removed]",
            "text/plain": [
              "<Figure size 432x288 with 1 Axes>"
            ]
          },
          "metadata": {
            "needs_background": "light"
          }
        }
      ]
    },
    {
      "cell_type": "code",
      "source": "\n# GRADED FUNCTION: predict\n\ndef predict(X, w, b): \n    \"\"\"\n    Predict whether the label is 0 or 1 using learned logistic\n    regression parameters w\n    \n    Args:\n    X : (ndarray Shape (m, n))\n    w : (array_like Shape (n,))      Parameters of the model\n    b : (scalar, float)              Parameter of the model\n\n    Returns:\n    p: (ndarray (m,1))\n        The predictions for X using a threshold at 0.5\n    \"\"\"\n    # number of training examples\n    m, n = X.shape   \n    p = np.zeros(m)\n   \n   \n    # Loop over each example\n    for i in range(m):   \n        # Calculate f_wb (exactly how you did it in the compute_cost function above)\n                 z_wb = 0\n                 # Loop over each feature\n                 for j in range(n): \n                     # Add the corresponding term to z_wb\n                         z_wb_ij = X[i, j] * w[j]\n                         z_wb += z_wb_ij\n\n             # Add bias term \n                 z_wb += b\n\n             # Calculate the prediction from the model\n                 f_wb = sigmoid(z_wb)\n\n        # Apply the threshold\n                 p[i] =  f_wb >= 0.5\n        \n   \n    return p",
      "metadata": {},
      "execution_count": 54,
      "outputs": []
    },
    {
      "cell_type": "code",
      "source": "# Test your predict code\nnp.random.seed(1)\ntmp_w = np.random.randn(2)\ntmp_b = 0.3    \ntmp_X = np.random.randn(4, 2) - 0.5\n\ntmp_p = predict(tmp_X, tmp_w, tmp_b)\nprint(f'Output of predict: shape {tmp_p.shape}, value {tmp_p}')\n\n# UNIT TESTS        \npredict_test(predict)",
      "metadata": {
        "trusted": true
      },
      "execution_count": null,
      "outputs": []
    },
    {
      "cell_type": "code",
      "source": "#Compute accuracy on our training set\np = predict(X_train, w,b)\nprint('Train Accuracy: %f'%(np.mean(p == y_train) * 100))",
      "metadata": {},
      "execution_count": 56,
      "outputs": [
        {
          "name": "stdout",
          "output_type": "stream",
          "text": "Train Accuracy: 92.000000\n"
        }
      ]
    }
  ]
}